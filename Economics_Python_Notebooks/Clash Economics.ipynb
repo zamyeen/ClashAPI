{
 "cells": [
  {
   "cell_type": "code",
   "execution_count": null,
   "id": "50685a05",
   "metadata": {},
   "outputs": [],
   "source": [
    "import matplotlib.pyplot as plt"
   ]
  },
  {
   "cell_type": "markdown",
   "id": "0c498d1a",
   "metadata": {},
   "source": [
    "Current Resources\n",
    "\n",
    "| Gold | Elixir | Dark |\n",
    "| :-: | :-: | :-: |\n",
    "| 30,000,000 | 30,000,000 | 300,000 |"
   ]
  },
  {
   "cell_type": "markdown",
   "id": "fab108c6",
   "metadata": {},
   "source": [
    "| Barbarian King | Dark |\n",
    "| :-: | :-: |\n",
    "| 92 | 240,000 |\n",
    "| 93 | 248,000 |\n",
    "| 94 | 256,000 |\n",
    "| 95 | 264,000 |"
   ]
  },
  {
   "cell_type": "markdown",
   "id": "e6a129c2",
   "metadata": {},
   "source": [
    "| Royal Champion Level | Dark |\n",
    "| :-: | :-: |\n",
    "| 42 | 260,000 |\n",
    "| 43 | 268,000 |\n",
    "| 44 | 276,000 |\n",
    "| 45 | 284,000 |"
   ]
  }
 ],
 "metadata": {
  "kernelspec": {
   "display_name": "Python 3 (ipykernel)",
   "language": "python",
   "name": "python3"
  },
  "language_info": {
   "codemirror_mode": {
    "name": "ipython",
    "version": 3
   },
   "file_extension": ".py",
   "mimetype": "text/x-python",
   "name": "python",
   "nbconvert_exporter": "python",
   "pygments_lexer": "ipython3",
   "version": "3.9.13"
  }
 },
 "nbformat": 4,
 "nbformat_minor": 5
}
